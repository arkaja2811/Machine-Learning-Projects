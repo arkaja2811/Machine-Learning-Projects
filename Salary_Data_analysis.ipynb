{
 "cells": [
  {
   "cell_type": "code",
   "execution_count": 1,
   "id": "630d8468",
   "metadata": {},
   "outputs": [],
   "source": [
    "#Dataset--->salary.csv"
   ]
  },
  {
   "cell_type": "code",
   "execution_count": 3,
   "id": "19152208",
   "metadata": {},
   "outputs": [],
   "source": [
    "import pandas as pd\n",
    "import numpy as np\n",
    "import matplotlib.pyplot as plt\n",
    "import seaborn as sns"
   ]
  },
  {
   "cell_type": "code",
   "execution_count": 9,
   "id": "85462fc3",
   "metadata": {},
   "outputs": [],
   "source": [
    "df=pd.read_csv(\"Salary_data.csv\")"
   ]
  },
  {
   "cell_type": "code",
   "execution_count": 10,
   "id": "5fd16e9a",
   "metadata": {},
   "outputs": [
    {
     "data": {
      "text/html": [
       "<div>\n",
       "<style scoped>\n",
       "    .dataframe tbody tr th:only-of-type {\n",
       "        vertical-align: middle;\n",
       "    }\n",
       "\n",
       "    .dataframe tbody tr th {\n",
       "        vertical-align: top;\n",
       "    }\n",
       "\n",
       "    .dataframe thead th {\n",
       "        text-align: right;\n",
       "    }\n",
       "</style>\n",
       "<table border=\"1\" class=\"dataframe\">\n",
       "  <thead>\n",
       "    <tr style=\"text-align: right;\">\n",
       "      <th></th>\n",
       "      <th>YearsExperience</th>\n",
       "      <th>Salary</th>\n",
       "    </tr>\n",
       "  </thead>\n",
       "  <tbody>\n",
       "    <tr>\n",
       "      <th>0</th>\n",
       "      <td>1.1</td>\n",
       "      <td>39343.0</td>\n",
       "    </tr>\n",
       "    <tr>\n",
       "      <th>1</th>\n",
       "      <td>1.3</td>\n",
       "      <td>46205.0</td>\n",
       "    </tr>\n",
       "    <tr>\n",
       "      <th>2</th>\n",
       "      <td>1.5</td>\n",
       "      <td>37731.0</td>\n",
       "    </tr>\n",
       "    <tr>\n",
       "      <th>3</th>\n",
       "      <td>2.0</td>\n",
       "      <td>43525.0</td>\n",
       "    </tr>\n",
       "    <tr>\n",
       "      <th>4</th>\n",
       "      <td>2.2</td>\n",
       "      <td>39891.0</td>\n",
       "    </tr>\n",
       "  </tbody>\n",
       "</table>\n",
       "</div>"
      ],
      "text/plain": [
       "   YearsExperience   Salary\n",
       "0              1.1  39343.0\n",
       "1              1.3  46205.0\n",
       "2              1.5  37731.0\n",
       "3              2.0  43525.0\n",
       "4              2.2  39891.0"
      ]
     },
     "execution_count": 10,
     "metadata": {},
     "output_type": "execute_result"
    }
   ],
   "source": [
    "df.head()"
   ]
  },
  {
   "cell_type": "code",
   "execution_count": 12,
   "id": "ade1fe5a",
   "metadata": {},
   "outputs": [
    {
     "data": {
      "text/plain": [
       "<AxesSubplot:xlabel='YearsExperience', ylabel='Salary'>"
      ]
     },
     "execution_count": 12,
     "metadata": {},
     "output_type": "execute_result"
    },
    {
     "data": {
      "image/png": "[encoded data removed]",
      "text/plain": [
       "<Figure size 432x288 with 1 Axes>"
      ]
     },
     "metadata": {
      "needs_background": "light"
     },
     "output_type": "display_data"
    }
   ],
   "source": [
    "#EDA\n",
    "sns.scatterplot(x=\"YearsExperience\", y=\"Salary\", data=df)"
   ]
  },
  {
   "cell_type": "code",
   "execution_count": 13,
   "id": "2b23a964",
   "metadata": {},
   "outputs": [],
   "source": [
    "#Linear regression may work on this dataset"
   ]
  },
  {
   "cell_type": "code",
   "execution_count": 14,
   "id": "cdbc7678",
   "metadata": {},
   "outputs": [
    {
     "data": {
      "text/plain": [
       "YearsExperience    0\n",
       "Salary             0\n",
       "dtype: int64"
      ]
     },
     "execution_count": 14,
     "metadata": {},
     "output_type": "execute_result"
    }
   ],
   "source": [
    "#missing data check:\n",
    "df.isnull().sum()"
   ]
  },
  {
   "cell_type": "code",
   "execution_count": 19,
   "id": "590c40c1",
   "metadata": {},
   "outputs": [],
   "source": [
    "#no character column\n",
    "#no  outliers as seen from the sctter plot above\n",
    "#scaling should be done\n",
    "x=df[[\"YearsExperience\"]]\n",
    "y=df[[\"Salary\"]]\n",
    "from sklearn.model_selection import train_test_split\n",
    "x_train, x_test, y_train, y_test=train_test_split(x,y,)"
   ]
  },
  {
   "cell_type": "code",
   "execution_count": 20,
   "id": "072ec151",
   "metadata": {},
   "outputs": [],
   "source": [
    "from sklearn.preprocessing import StandardScaler\n",
    "scalar=StandardScaler()\n",
    "x_train_s=scalar.fit_transform(x_train)\n",
    "x_test_s=scalar.transform(x_test)"
   ]
  },
  {
   "cell_type": "code",
   "execution_count": 22,
   "id": "dd7bbdfd",
   "metadata": {},
   "outputs": [
    {
     "data": {
      "text/plain": [
       "LinearRegression()"
      ]
     },
     "execution_count": 22,
     "metadata": {},
     "output_type": "execute_result"
    }
   ],
   "source": [
    "#lets try linear regression models\n",
    "from sklearn.linear_model import LinearRegression\n",
    "model_LR=LinearRegression()\n",
    "model_LR.fit(x_train_s, y_train)"
   ]
  },
  {
   "cell_type": "code",
   "execution_count": 23,
   "id": "c2423d04",
   "metadata": {},
   "outputs": [],
   "source": [
    "y_pred=model_LR.predict(x_test_s)"
   ]
  },
  {
   "cell_type": "code",
   "execution_count": 31,
   "id": "6c4a7208",
   "metadata": {},
   "outputs": [
    {
     "data": {
      "text/plain": [
       "[<matplotlib.lines.Line2D at 0x1f91b2b2c70>]"
      ]
     },
     "execution_count": 31,
     "metadata": {},
     "output_type": "execute_result"
    },
    {
     "data": {
      "image/png": "[encoded data removed]",
      "text/plain": [
       "<Figure size 432x288 with 1 Axes>"
      ]
     },
     "metadata": {
      "needs_background": "light"
     },
     "output_type": "display_data"
    }
   ],
   "source": [
    "plt.scatter(x_test_s,y_test, color=\"orange\")\n",
    "plt.plot(x_test_s, y_pred, color=\"blue\")"
   ]
  },
  {
   "cell_type": "code",
   "execution_count": 32,
   "id": "c2dbc77a",
   "metadata": {},
   "outputs": [],
   "source": [
    "from sklearn.metrics import mean_squared_error, r2_score"
   ]
  },
  {
   "cell_type": "code",
   "execution_count": 34,
   "id": "a3697842",
   "metadata": {},
   "outputs": [
    {
     "data": {
      "text/plain": [
       "53059447.48748152"
      ]
     },
     "execution_count": 34,
     "metadata": {},
     "output_type": "execute_result"
    }
   ],
   "source": [
    "mean_squared_error(y_test, y_pred)"
   ]
  },
  {
   "cell_type": "code",
   "execution_count": 35,
   "id": "4962d476",
   "metadata": {},
   "outputs": [
    {
     "data": {
      "text/plain": [
       "0.9312046527436729"
      ]
     },
     "execution_count": 35,
     "metadata": {},
     "output_type": "execute_result"
    }
   ],
   "source": [
    "r2_score(y_test, y_pred)"
   ]
  },
  {
   "cell_type": "code",
   "execution_count": 36,
   "id": "9fa16f91",
   "metadata": {},
   "outputs": [],
   "source": [
    "#here the r2score predicted is decent ---> 93.12046527436729 %"
   ]
  },
  {
   "cell_type": "markdown",
   "id": "66793518",
   "metadata": {},
   "source": [
    "Let's try polynomials"
   ]
  },
  {
   "cell_type": "code",
   "execution_count": 52,
   "id": "9ce53fcb",
   "metadata": {},
   "outputs": [],
   "source": [
    "from sklearn.preprocessing import PolynomialFeatures"
   ]
  },
  {
   "cell_type": "code",
   "execution_count": 60,
   "id": "b1f515fe",
   "metadata": {},
   "outputs": [],
   "source": [
    "poly=PolynomialFeatures(degree=3)\n",
    "x_poly_train=poly.fit_transform(x_train)\n",
    "model_PLG=LinearRegression()\n",
    "model_PLG.fit(x_poly_train, y_train)\n",
    "x_poly_test=poly.transform(x_test)\n",
    "y_pred=model_PLG.predict(x_poly_test)"
   ]
  },
  {
   "cell_type": "code",
   "execution_count": 61,
   "id": "293c543b",
   "metadata": {},
   "outputs": [
    {
     "data": {
      "text/plain": [
       "[<matplotlib.lines.Line2D at 0x1f91bfa6f40>,\n",
       " <matplotlib.lines.Line2D at 0x1f91bfa6f70>,\n",
       " <matplotlib.lines.Line2D at 0x1f91bfb50d0>,\n",
       " <matplotlib.lines.Line2D at 0x1f91bfb51f0>]"
      ]
     },
     "execution_count": 61,
     "metadata": {},
     "output_type": "execute_result"
    },
    {
     "data": {
      "image/png": "[encoded data removed]",
      "text/plain": [
       "<Figure size 432x288 with 1 Axes>"
      ]
     },
     "metadata": {
      "needs_background": "light"
     },
     "output_type": "display_data"
    }
   ],
   "source": [
    "plt.scatter(x_test, y_test, color=\"red\")\n",
    "plt.plot(x_poly_test, y_pred, color=\"blue\")"
   ]
  },
  {
   "cell_type": "code",
   "execution_count": 62,
   "id": "6447c958",
   "metadata": {},
   "outputs": [
    {
     "data": {
      "text/plain": [
       "0.9442436780920785"
      ]
     },
     "execution_count": 62,
     "metadata": {},
     "output_type": "execute_result"
    }
   ],
   "source": [
    "r2_score(y_test, y_pred)"
   ]
  },
  {
   "cell_type": "code",
   "execution_count": 63,
   "id": "6f47bcc9",
   "metadata": {},
   "outputs": [],
   "source": [
    "#we can see here that the accuracy increased by 1% approx"
   ]
  },
  {
   "cell_type": "code",
   "execution_count": 82,
   "id": "3d5286d1",
   "metadata": {},
   "outputs": [],
   "source": [
    "poly=PolynomialFeatures(degree=5)\n",
    "x_poly_train=poly.fit_transform(x_train)\n",
    "model_PLG=LinearRegression()\n",
    "model_PLG.fit(x_poly_train, y_train)\n",
    "x_poly_test=poly.transform(x_test)\n",
    "y_pred=model_PLG.predict(x_poly_test)"
   ]
  },
  {
   "cell_type": "code",
   "execution_count": 83,
   "id": "e6dd9b15",
   "metadata": {},
   "outputs": [
    {
     "data": {
      "text/plain": [
       "[<matplotlib.lines.Line2D at 0x1f91d280880>,\n",
       " <matplotlib.lines.Line2D at 0x1f91d2808b0>,\n",
       " <matplotlib.lines.Line2D at 0x1f91d2809d0>,\n",
       " <matplotlib.lines.Line2D at 0x1f91d280af0>,\n",
       " <matplotlib.lines.Line2D at 0x1f91d280c10>,\n",
       " <matplotlib.lines.Line2D at 0x1f91d280d30>]"
      ]
     },
     "execution_count": 83,
     "metadata": {},
     "output_type": "execute_result"
    },
    {
     "data": {
      "image/png": "[encoded data removed]",
      "text/plain": [
       "<Figure size 432x288 with 1 Axes>"
      ]
     },
     "metadata": {
      "needs_background": "light"
     },
     "output_type": "display_data"
    }
   ],
   "source": [
    "plt.scatter(x_test, y_test, color=\"red\")\n",
    "plt.plot(x_poly_test, y_pred, color=\"blue\")"
   ]
  },
  {
   "cell_type": "code",
   "execution_count": 84,
   "id": "271e53a1",
   "metadata": {},
   "outputs": [
    {
     "data": {
      "text/plain": [
       "0.9467798474612621"
      ]
     },
     "execution_count": 84,
     "metadata": {},
     "output_type": "execute_result"
    }
   ],
   "source": [
    "r2_score(y_test, y_pred)"
   ]
  },
  {
   "cell_type": "code",
   "execution_count": null,
   "id": "678d99d6",
   "metadata": {},
   "outputs": [],
   "source": [
    "#after trying all the degrees we found that of all degree=5 gives the maximum r2_score\n",
    "#--->94.67798474612621%"
   ]
  }
 ],
 "metadata": {
  "kernelspec": {
   "display_name": "Python 3 (ipykernel)",
   "language": "python",
   "name": "python3"
  },
  "language_info": {
   "codemirror_mode": {
    "name": "ipython",
    "version": 3
   },
   "file_extension": ".py",
   "mimetype": "text/x-python",
   "name": "python",
   "nbconvert_exporter": "python",
   "pygments_lexer": "ipython3",
   "version": "3.9.12"
  }
 },
 "nbformat": 4,
 "nbformat_minor": 5
}
