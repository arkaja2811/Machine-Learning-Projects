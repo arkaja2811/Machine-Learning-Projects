{
 "cells": [
  {
   "cell_type": "code",
   "execution_count": 22,
   "id": "0ad79d80",
   "metadata": {},
   "outputs": [],
   "source": [
    "import pandas as pd\n",
    "import numpy as np\n",
    "import seaborn as sns\n",
    "\n",
    "import warnings\n",
    "warnings.filterwarnings(\"ignore\")"
   ]
  },
  {
   "cell_type": "code",
   "execution_count": 3,
   "id": "b9114b97",
   "metadata": {},
   "outputs": [],
   "source": [
    "df = pd.read_csv(\"titanic.csv\")\n",
    "#Titanic Dataset has been ed into the variable 'df'"
   ]
  },
  {
   "cell_type": "code",
   "execution_count": 4,
   "id": "b9e8e9d6",
   "metadata": {},
   "outputs": [
    {
     "data": {
      "text/html": [
       "<div>\n",
       "<style scoped>\n",
       "    .dataframe tbody tr th:only-of-type {\n",
       "        vertical-align: middle;\n",
       "    }\n",
       "\n",
       "    .dataframe tbody tr th {\n",
       "        vertical-align: top;\n",
       "    }\n",
       "\n",
       "    .dataframe thead th {\n",
       "        text-align: right;\n",
       "    }\n",
       "</style>\n",
       "<table border=\"1\" class=\"dataframe\">\n",
       "  <thead>\n",
       "    <tr style=\"text-align: right;\">\n",
       "      <th></th>\n",
       "      <th>Survived</th>\n",
       "      <th>Pclass</th>\n",
       "      <th>Name</th>\n",
       "      <th>Sex</th>\n",
       "      <th>Age</th>\n",
       "      <th>Siblings/Spouses Aboard</th>\n",
       "      <th>Parents/Children Aboard</th>\n",
       "      <th>Fare</th>\n",
       "    </tr>\n",
       "  </thead>\n",
       "  <tbody>\n",
       "    <tr>\n",
       "      <th>0</th>\n",
       "      <td>0</td>\n",
       "      <td>3</td>\n",
       "      <td>Mr. Owen Harris Braund</td>\n",
       "      <td>male</td>\n",
       "      <td>22.0</td>\n",
       "      <td>1</td>\n",
       "      <td>0</td>\n",
       "      <td>7.2500</td>\n",
       "    </tr>\n",
       "    <tr>\n",
       "      <th>1</th>\n",
       "      <td>1</td>\n",
       "      <td>1</td>\n",
       "      <td>Mrs. John Bradley (Florence Briggs Thayer) Cum...</td>\n",
       "      <td>female</td>\n",
       "      <td>38.0</td>\n",
       "      <td>1</td>\n",
       "      <td>0</td>\n",
       "      <td>71.2833</td>\n",
       "    </tr>\n",
       "    <tr>\n",
       "      <th>2</th>\n",
       "      <td>1</td>\n",
       "      <td>3</td>\n",
       "      <td>Miss. Laina Heikkinen</td>\n",
       "      <td>female</td>\n",
       "      <td>26.0</td>\n",
       "      <td>0</td>\n",
       "      <td>0</td>\n",
       "      <td>7.9250</td>\n",
       "    </tr>\n",
       "    <tr>\n",
       "      <th>3</th>\n",
       "      <td>1</td>\n",
       "      <td>1</td>\n",
       "      <td>Mrs. Jacques Heath (Lily May Peel) Futrelle</td>\n",
       "      <td>female</td>\n",
       "      <td>35.0</td>\n",
       "      <td>1</td>\n",
       "      <td>0</td>\n",
       "      <td>53.1000</td>\n",
       "    </tr>\n",
       "    <tr>\n",
       "      <th>4</th>\n",
       "      <td>0</td>\n",
       "      <td>3</td>\n",
       "      <td>Mr. William Henry Allen</td>\n",
       "      <td>male</td>\n",
       "      <td>35.0</td>\n",
       "      <td>0</td>\n",
       "      <td>0</td>\n",
       "      <td>8.0500</td>\n",
       "    </tr>\n",
       "    <tr>\n",
       "      <th>5</th>\n",
       "      <td>0</td>\n",
       "      <td>3</td>\n",
       "      <td>Mr. James Moran</td>\n",
       "      <td>male</td>\n",
       "      <td>27.0</td>\n",
       "      <td>0</td>\n",
       "      <td>0</td>\n",
       "      <td>8.4583</td>\n",
       "    </tr>\n",
       "    <tr>\n",
       "      <th>6</th>\n",
       "      <td>0</td>\n",
       "      <td>1</td>\n",
       "      <td>Mr. Timothy J McCarthy</td>\n",
       "      <td>male</td>\n",
       "      <td>54.0</td>\n",
       "      <td>0</td>\n",
       "      <td>0</td>\n",
       "      <td>51.8625</td>\n",
       "    </tr>\n",
       "    <tr>\n",
       "      <th>7</th>\n",
       "      <td>0</td>\n",
       "      <td>3</td>\n",
       "      <td>Master. Gosta Leonard Palsson</td>\n",
       "      <td>male</td>\n",
       "      <td>2.0</td>\n",
       "      <td>3</td>\n",
       "      <td>1</td>\n",
       "      <td>21.0750</td>\n",
       "    </tr>\n",
       "    <tr>\n",
       "      <th>8</th>\n",
       "      <td>1</td>\n",
       "      <td>3</td>\n",
       "      <td>Mrs. Oscar W (Elisabeth Vilhelmina Berg) Johnson</td>\n",
       "      <td>female</td>\n",
       "      <td>27.0</td>\n",
       "      <td>0</td>\n",
       "      <td>2</td>\n",
       "      <td>11.1333</td>\n",
       "    </tr>\n",
       "    <tr>\n",
       "      <th>9</th>\n",
       "      <td>1</td>\n",
       "      <td>2</td>\n",
       "      <td>Mrs. Nicholas (Adele Achem) Nasser</td>\n",
       "      <td>female</td>\n",
       "      <td>14.0</td>\n",
       "      <td>1</td>\n",
       "      <td>0</td>\n",
       "      <td>30.0708</td>\n",
       "    </tr>\n",
       "  </tbody>\n",
       "</table>\n",
       "</div>"
      ],
      "text/plain": [
       "   Survived  Pclass                                               Name  \\\n",
       "0         0       3                             Mr. Owen Harris Braund   \n",
       "1         1       1  Mrs. John Bradley (Florence Briggs Thayer) Cum...   \n",
       "2         1       3                              Miss. Laina Heikkinen   \n",
       "3         1       1        Mrs. Jacques Heath (Lily May Peel) Futrelle   \n",
       "4         0       3                            Mr. William Henry Allen   \n",
       "5         0       3                                    Mr. James Moran   \n",
       "6         0       1                             Mr. Timothy J McCarthy   \n",
       "7         0       3                      Master. Gosta Leonard Palsson   \n",
       "8         1       3   Mrs. Oscar W (Elisabeth Vilhelmina Berg) Johnson   \n",
       "9         1       2                 Mrs. Nicholas (Adele Achem) Nasser   \n",
       "\n",
       "      Sex   Age  Siblings/Spouses Aboard  Parents/Children Aboard     Fare  \n",
       "0    male  22.0                        1                        0   7.2500  \n",
       "1  female  38.0                        1                        0  71.2833  \n",
       "2  female  26.0                        0                        0   7.9250  \n",
       "3  female  35.0                        1                        0  53.1000  \n",
       "4    male  35.0                        0                        0   8.0500  \n",
       "5    male  27.0                        0                        0   8.4583  \n",
       "6    male  54.0                        0                        0  51.8625  \n",
       "7    male   2.0                        3                        1  21.0750  \n",
       "8  female  27.0                        0                        2  11.1333  \n",
       "9  female  14.0                        1                        0  30.0708  "
      ]
     },
     "execution_count": 4,
     "metadata": {},
     "output_type": "execute_result"
    }
   ],
   "source": [
    "df.head(10)\n",
    "#First 10 tuples"
   ]
  },
  {
   "cell_type": "code",
   "execution_count": 7,
   "id": "876d483b",
   "metadata": {},
   "outputs": [
    {
     "data": {
      "text/html": [
       "<div>\n",
       "<style scoped>\n",
       "    .dataframe tbody tr th:only-of-type {\n",
       "        vertical-align: middle;\n",
       "    }\n",
       "\n",
       "    .dataframe tbody tr th {\n",
       "        vertical-align: top;\n",
       "    }\n",
       "\n",
       "    .dataframe thead th {\n",
       "        text-align: right;\n",
       "    }\n",
       "</style>\n",
       "<table border=\"1\" class=\"dataframe\">\n",
       "  <thead>\n",
       "    <tr style=\"text-align: right;\">\n",
       "      <th></th>\n",
       "      <th>Survived</th>\n",
       "      <th>Pclass</th>\n",
       "      <th>Name</th>\n",
       "      <th>Sex</th>\n",
       "      <th>Age</th>\n",
       "      <th>Siblings/Spouses Aboard</th>\n",
       "      <th>Parents/Children Aboard</th>\n",
       "      <th>Fare</th>\n",
       "    </tr>\n",
       "  </thead>\n",
       "  <tbody>\n",
       "    <tr>\n",
       "      <th>877</th>\n",
       "      <td>0</td>\n",
       "      <td>3</td>\n",
       "      <td>Mr. Johann Markun</td>\n",
       "      <td>male</td>\n",
       "      <td>33.0</td>\n",
       "      <td>0</td>\n",
       "      <td>0</td>\n",
       "      <td>7.8958</td>\n",
       "    </tr>\n",
       "    <tr>\n",
       "      <th>878</th>\n",
       "      <td>0</td>\n",
       "      <td>3</td>\n",
       "      <td>Miss. Gerda Ulrika Dahlberg</td>\n",
       "      <td>female</td>\n",
       "      <td>22.0</td>\n",
       "      <td>0</td>\n",
       "      <td>0</td>\n",
       "      <td>10.5167</td>\n",
       "    </tr>\n",
       "    <tr>\n",
       "      <th>879</th>\n",
       "      <td>0</td>\n",
       "      <td>2</td>\n",
       "      <td>Mr. Frederick James Banfield</td>\n",
       "      <td>male</td>\n",
       "      <td>28.0</td>\n",
       "      <td>0</td>\n",
       "      <td>0</td>\n",
       "      <td>10.5000</td>\n",
       "    </tr>\n",
       "    <tr>\n",
       "      <th>880</th>\n",
       "      <td>0</td>\n",
       "      <td>3</td>\n",
       "      <td>Mr. Henry Jr Sutehall</td>\n",
       "      <td>male</td>\n",
       "      <td>25.0</td>\n",
       "      <td>0</td>\n",
       "      <td>0</td>\n",
       "      <td>7.0500</td>\n",
       "    </tr>\n",
       "    <tr>\n",
       "      <th>881</th>\n",
       "      <td>0</td>\n",
       "      <td>3</td>\n",
       "      <td>Mrs. William (Margaret Norton) Rice</td>\n",
       "      <td>female</td>\n",
       "      <td>39.0</td>\n",
       "      <td>0</td>\n",
       "      <td>5</td>\n",
       "      <td>29.1250</td>\n",
       "    </tr>\n",
       "    <tr>\n",
       "      <th>882</th>\n",
       "      <td>0</td>\n",
       "      <td>2</td>\n",
       "      <td>Rev. Juozas Montvila</td>\n",
       "      <td>male</td>\n",
       "      <td>27.0</td>\n",
       "      <td>0</td>\n",
       "      <td>0</td>\n",
       "      <td>13.0000</td>\n",
       "    </tr>\n",
       "    <tr>\n",
       "      <th>883</th>\n",
       "      <td>1</td>\n",
       "      <td>1</td>\n",
       "      <td>Miss. Margaret Edith Graham</td>\n",
       "      <td>female</td>\n",
       "      <td>19.0</td>\n",
       "      <td>0</td>\n",
       "      <td>0</td>\n",
       "      <td>30.0000</td>\n",
       "    </tr>\n",
       "    <tr>\n",
       "      <th>884</th>\n",
       "      <td>0</td>\n",
       "      <td>3</td>\n",
       "      <td>Miss. Catherine Helen Johnston</td>\n",
       "      <td>female</td>\n",
       "      <td>7.0</td>\n",
       "      <td>1</td>\n",
       "      <td>2</td>\n",
       "      <td>23.4500</td>\n",
       "    </tr>\n",
       "    <tr>\n",
       "      <th>885</th>\n",
       "      <td>1</td>\n",
       "      <td>1</td>\n",
       "      <td>Mr. Karl Howell Behr</td>\n",
       "      <td>male</td>\n",
       "      <td>26.0</td>\n",
       "      <td>0</td>\n",
       "      <td>0</td>\n",
       "      <td>30.0000</td>\n",
       "    </tr>\n",
       "    <tr>\n",
       "      <th>886</th>\n",
       "      <td>0</td>\n",
       "      <td>3</td>\n",
       "      <td>Mr. Patrick Dooley</td>\n",
       "      <td>male</td>\n",
       "      <td>32.0</td>\n",
       "      <td>0</td>\n",
       "      <td>0</td>\n",
       "      <td>7.7500</td>\n",
       "    </tr>\n",
       "  </tbody>\n",
       "</table>\n",
       "</div>"
      ],
      "text/plain": [
       "     Survived  Pclass                                 Name     Sex   Age  \\\n",
       "877         0       3                    Mr. Johann Markun    male  33.0   \n",
       "878         0       3          Miss. Gerda Ulrika Dahlberg  female  22.0   \n",
       "879         0       2         Mr. Frederick James Banfield    male  28.0   \n",
       "880         0       3                Mr. Henry Jr Sutehall    male  25.0   \n",
       "881         0       3  Mrs. William (Margaret Norton) Rice  female  39.0   \n",
       "882         0       2                 Rev. Juozas Montvila    male  27.0   \n",
       "883         1       1          Miss. Margaret Edith Graham  female  19.0   \n",
       "884         0       3       Miss. Catherine Helen Johnston  female   7.0   \n",
       "885         1       1                 Mr. Karl Howell Behr    male  26.0   \n",
       "886         0       3                   Mr. Patrick Dooley    male  32.0   \n",
       "\n",
       "     Siblings/Spouses Aboard  Parents/Children Aboard     Fare  \n",
       "877                        0                        0   7.8958  \n",
       "878                        0                        0  10.5167  \n",
       "879                        0                        0  10.5000  \n",
       "880                        0                        0   7.0500  \n",
       "881                        0                        5  29.1250  \n",
       "882                        0                        0  13.0000  \n",
       "883                        0                        0  30.0000  \n",
       "884                        1                        2  23.4500  \n",
       "885                        0                        0  30.0000  \n",
       "886                        0                        0   7.7500  "
      ]
     },
     "execution_count": 7,
     "metadata": {},
     "output_type": "execute_result"
    }
   ],
   "source": [
    "df.tail(10)\n",
    "#Last 10 tuples"
   ]
  },
  {
   "cell_type": "code",
   "execution_count": null,
   "id": "bf59fde5",
   "metadata": {},
   "outputs": [],
   "source": [
    "#Each row corresponds to that of each person on the ship\n",
    "\n",
    "#Column Descriptions\n",
    "#Survived: If the person survived, value is 1, if the person didn't survive, value is 0\n",
    "#Pclass: Passenger class\n",
    "#Name: Name of the passenger\n",
    "#Sex: Gender of the person\n",
    "#Age: Age of the person\n",
    "#Siblings/Spouse Aboard: Number of Siblings or Spouse of the person aboard\n",
    "#Parents/Children Aboard: Number of Parents or Children of the person aboard\n",
    "#Fare: Fare each passenger paid"
   ]
  },
  {
   "cell_type": "code",
   "execution_count": 9,
   "id": "e541bae1",
   "metadata": {},
   "outputs": [
    {
     "data": {
      "text/plain": [
       "Survived                     int64\n",
       "Pclass                       int64\n",
       "Name                        object\n",
       "Sex                         object\n",
       "Age                        float64\n",
       "Siblings/Spouses Aboard      int64\n",
       "Parents/Children Aboard      int64\n",
       "Fare                       float64\n",
       "dtype: object"
      ]
     },
     "execution_count": 9,
     "metadata": {},
     "output_type": "execute_result"
    }
   ],
   "source": [
    "df.dtypes\n",
    "#datatypes description\n",
    "#we can see that here \n",
    "# Name and Sex are string/object types\n",
    "# Survived, PClass, Siblings/Spouses Aboard, Parents/Children Aboard are of integer types, and\n",
    "# Age and Fare are of float types\n",
    "#Age being of float type means it may represent the number of months and the number of days."
   ]
  },
  {
   "cell_type": "code",
   "execution_count": 13,
   "id": "229b4949",
   "metadata": {},
   "outputs": [
    {
     "data": {
      "text/plain": [
       "(887, 8)"
      ]
     },
     "execution_count": 13,
     "metadata": {},
     "output_type": "execute_result"
    }
   ],
   "source": [
    "df.shape\n",
    "#number of rows=887\n",
    "#number of columns=8"
   ]
  },
  {
   "cell_type": "code",
   "execution_count": 15,
   "id": "0ae35988",
   "metadata": {},
   "outputs": [
    {
     "name": "stdout",
     "output_type": "stream",
     "text": [
      "<class 'pandas.core.frame.DataFrame'>\n",
      "RangeIndex: 887 entries, 0 to 886\n",
      "Data columns (total 8 columns):\n",
      " #   Column                   Non-Null Count  Dtype  \n",
      "---  ------                   --------------  -----  \n",
      " 0   Survived                 887 non-null    int64  \n",
      " 1   Pclass                   887 non-null    int64  \n",
      " 2   Name                     887 non-null    object \n",
      " 3   Sex                      887 non-null    object \n",
      " 4   Age                      887 non-null    float64\n",
      " 5   Siblings/Spouses Aboard  887 non-null    int64  \n",
      " 6   Parents/Children Aboard  887 non-null    int64  \n",
      " 7   Fare                     887 non-null    float64\n",
      "dtypes: float64(2), int64(4), object(2)\n",
      "memory usage: 55.6+ KB\n"
     ]
    }
   ],
   "source": [
    "df.info()\n",
    "# we can see here with 887 rows, all the rows are non null values."
   ]
  },
  {
   "cell_type": "code",
   "execution_count": 16,
   "id": "e97c66f1",
   "metadata": {},
   "outputs": [
    {
     "data": {
      "text/plain": [
       "Survived                   0\n",
       "Pclass                     0\n",
       "Name                       0\n",
       "Sex                        0\n",
       "Age                        0\n",
       "Siblings/Spouses Aboard    0\n",
       "Parents/Children Aboard    0\n",
       "Fare                       0\n",
       "dtype: int64"
      ]
     },
     "execution_count": 16,
     "metadata": {},
     "output_type": "execute_result"
    }
   ],
   "source": [
    "df.isnull().sum()\n",
    "#we can see here there are no missing values for any column"
   ]
  },
  {
   "cell_type": "markdown",
   "id": "93e451e1",
   "metadata": {},
   "source": [
    "# UNIVARIATE ANALYSIS"
   ]
  },
  {
   "cell_type": "code",
   "execution_count": 17,
   "id": "056bdae4",
   "metadata": {},
   "outputs": [
    {
     "data": {
      "text/plain": [
       "array([0, 1], dtype=int64)"
      ]
     },
     "execution_count": 17,
     "metadata": {},
     "output_type": "execute_result"
    }
   ],
   "source": [
    "# column : Survived\n",
    "df[\"Survived\"].unique()\n",
    "#as we see here ,  Survived takes only 2 values, 1: if the person survived and 0: if the person didn't survive\n",
    "# Thus its a categorical data"
   ]
  },
  {
   "cell_type": "code",
   "execution_count": 18,
   "id": "1c1f2e93",
   "metadata": {},
   "outputs": [
    {
     "data": {
      "text/plain": [
       "0    545\n",
       "1    342\n",
       "Name: Survived, dtype: int64"
      ]
     },
     "execution_count": 18,
     "metadata": {},
     "output_type": "execute_result"
    }
   ],
   "source": [
    "df[\"Survived\"].value_counts()\n",
    "# so we conclude that 545 people died and 342 people survived"
   ]
  },
  {
   "cell_type": "code",
   "execution_count": 24,
   "id": "83ef21dc",
   "metadata": {},
   "outputs": [
    {
     "data": {
      "text/plain": [
       "<AxesSubplot:xlabel='Survived', ylabel='count'>"
      ]
     },
     "execution_count": 24,
     "metadata": {},
     "output_type": "execute_result"
    },
    {
     "data": {
      "image/png": "[encoded data removed]",
      "text/plain": [
       "<Figure size 432x288 with 1 Axes>"
      ]
     },
     "metadata": {
      "needs_background": "light"
     },
     "output_type": "display_data"
    }
   ],
   "source": [
    "sns.countplot(df[\"Survived\"])"
   ]
  },
  {
   "cell_type": "code",
   "execution_count": 26,
   "id": "6fba65f1",
   "metadata": {},
   "outputs": [
    {
     "data": {
      "text/plain": [
       "array([3, 1, 2], dtype=int64)"
      ]
     },
     "execution_count": 26,
     "metadata": {},
     "output_type": "execute_result"
    }
   ],
   "source": [
    "df[\"Pclass\"].unique()\n",
    "#only three values, [3, 1, 2] \n",
    "#three passenger classes are there\n",
    "# so we can conclude it as categorical data"
   ]
  },
  {
   "cell_type": "code",
   "execution_count": 27,
   "id": "58b87c16",
   "metadata": {},
   "outputs": [
    {
     "data": {
      "text/plain": [
       "3    487\n",
       "1    216\n",
       "2    184\n",
       "Name: Pclass, dtype: int64"
      ]
     },
     "execution_count": 27,
     "metadata": {},
     "output_type": "execute_result"
    }
   ],
   "source": [
    "df[\"Pclass\"].value_counts()"
   ]
  },
  {
   "cell_type": "code",
   "execution_count": 28,
   "id": "703a2cd3",
   "metadata": {},
   "outputs": [
    {
     "data": {
      "text/plain": [
       "<AxesSubplot:xlabel='Pclass', ylabel='count'>"
      ]
     },
     "execution_count": 28,
     "metadata": {},
     "output_type": "execute_result"
    },
    {
     "data": {
      "image/png": "[encoded data removed]",
      "text/plain": [
       "<Figure size 432x288 with 1 Axes>"
      ]
     },
     "metadata": {
      "needs_background": "light"
     },
     "output_type": "display_data"
    }
   ],
   "source": [
    "sns.countplot(df[\"Pclass\"])\n",
    "# here we can see that highest number of people are there is Pclass: 3.\n",
    "# Pclass: 1 has the least number of people"
   ]
  },
  {
   "cell_type": "code",
   "execution_count": 30,
   "id": "c22c482c",
   "metadata": {},
   "outputs": [
    {
     "data": {
      "text/plain": [
       "array(['male', 'female'], dtype=object)"
      ]
     },
     "execution_count": 30,
     "metadata": {},
     "output_type": "execute_result"
    }
   ],
   "source": [
    "df[\"Sex\"].unique()\n",
    "#only males and females"
   ]
  },
  {
   "cell_type": "code",
   "execution_count": 31,
   "id": "e31935c9",
   "metadata": {},
   "outputs": [
    {
     "data": {
      "text/plain": [
       "male      573\n",
       "female    314\n",
       "Name: Sex, dtype: int64"
      ]
     },
     "execution_count": 31,
     "metadata": {},
     "output_type": "execute_result"
    }
   ],
   "source": [
    "df[\"Sex\"].value_counts()"
   ]
  },
  {
   "cell_type": "code",
   "execution_count": 33,
   "id": "61ba24b3",
   "metadata": {},
   "outputs": [
    {
     "data": {
      "text/plain": [
       "<AxesSubplot:xlabel='Sex', ylabel='count'>"
      ]
     },
     "execution_count": 33,
     "metadata": {},
     "output_type": "execute_result"
    },
    {
     "data": {
      "image/png": "[encoded data removed]",
      "text/plain": [
       "<Figure size 432x288 with 1 Axes>"
      ]
     },
     "metadata": {
      "needs_background": "light"
     },
     "output_type": "display_data"
    }
   ],
   "source": [
    "sns.countplot(df[\"Sex\"])\n",
    "# number of male passengers are more as compared to female passengers"
   ]
  },
  {
   "cell_type": "code",
   "execution_count": 36,
   "id": "fca3624e",
   "metadata": {},
   "outputs": [
    {
     "data": {
      "text/plain": [
       "array([22.  , 38.  , 26.  , 35.  , 27.  , 54.  ,  2.  , 14.  ,  4.  ,\n",
       "       58.  , 20.  , 39.  , 55.  , 23.  , 31.  , 34.  , 15.  , 28.  ,\n",
       "        8.  , 19.  , 24.  , 40.  , 48.  , 18.  , 66.  , 42.  , 21.  ,\n",
       "        3.  , 30.  , 16.  ,  7.  , 49.  , 29.  , 65.  , 46.  , 28.5 ,\n",
       "        5.  , 11.  , 45.  , 64.  , 17.  , 32.  , 25.  ,  0.83, 33.  ,\n",
       "       59.  , 71.  , 37.  , 47.  , 14.5 , 70.5 , 32.5 , 12.  ,  9.  ,\n",
       "       36.5 , 51.  , 55.5 , 40.5 , 44.  ,  1.  , 60.  , 61.  , 56.  ,\n",
       "       50.  , 36.  , 45.5 , 20.5 , 62.  , 41.  , 52.  , 63.  , 57.  ,\n",
       "       23.5 ,  0.92, 43.  , 10.  , 13.  ,  0.75, 69.  , 53.  , 80.  ,\n",
       "       70.  , 24.5 ,  6.  ,  0.67, 30.5 ,  0.42, 34.5 , 74.  ])"
      ]
     },
     "execution_count": 36,
     "metadata": {},
     "output_type": "execute_result"
    }
   ],
   "source": [
    "df[\"Age\"].unique()\n",
    "# this column has continuous data"
   ]
  },
  {
   "cell_type": "code",
   "execution_count": 38,
   "id": "009ac2eb",
   "metadata": {},
   "outputs": [
    {
     "data": {
      "text/plain": [
       "<AxesSubplot:xlabel='Age', ylabel='Count'>"
      ]
     },
     "execution_count": 38,
     "metadata": {},
     "output_type": "execute_result"
    },
    {
     "data": {
      "image/png": "[encoded data removed]",
      "text/plain": [
       "<Figure size 432x288 with 1 Axes>"
      ]
     },
     "metadata": {
      "needs_background": "light"
     },
     "output_type": "display_data"
    }
   ],
   "source": [
    "sns.histplot(df[\"Age\"])\n",
    "#most number of people are in the age group of 15 to 40 years"
   ]
  },
  {
   "cell_type": "code",
   "execution_count": 39,
   "id": "efc64e14",
   "metadata": {},
   "outputs": [
    {
     "data": {
      "text/plain": [
       "<AxesSubplot:xlabel='Age', ylabel='Density'>"
      ]
     },
     "execution_count": 39,
     "metadata": {},
     "output_type": "execute_result"
    },
    {
     "data": {
      "image/png": "[encoded data removed]",
      "text/plain": [
       "<Figure size 432x288 with 1 Axes>"
      ]
     },
     "metadata": {
      "needs_background": "light"
     },
     "output_type": "display_data"
    }
   ],
   "source": [
    "sns.kdeplot(df[\"Age\"])"
   ]
  },
  {
   "cell_type": "code",
   "execution_count": 69,
   "id": "6d8b2085",
   "metadata": {},
   "outputs": [
    {
     "data": {
      "text/plain": [
       "<AxesSubplot:ylabel='Age'>"
      ]
     },
     "execution_count": 69,
     "metadata": {},
     "output_type": "execute_result"
    },
    {
     "data": {
      "image/png": "[encoded data removed]",
      "text/plain": [
       "<Figure size 432x288 with 1 Axes>"
      ]
     },
     "metadata": {
      "needs_background": "light"
     },
     "output_type": "display_data"
    }
   ],
   "source": [
    "sns.boxplot(y=\"Age\", data=df)"
   ]
  },
  {
   "cell_type": "code",
   "execution_count": 71,
   "id": "33a24a23",
   "metadata": {},
   "outputs": [
    {
     "name": "stdout",
     "output_type": "stream",
     "text": [
      "20.25\n",
      "28.0\n",
      "38.0\n"
     ]
    }
   ],
   "source": [
    "q1,q2,q3=np.percentile(df['Age'],[25,50,75])\n",
    "print(q1)\n",
    "print(q2)\n",
    "print(q3)\n",
    "#observing the quartiles we can figure out most people are in the age group of 20 to 40"
   ]
  },
  {
   "cell_type": "code",
   "execution_count": 72,
   "id": "8895ecc5",
   "metadata": {},
   "outputs": [
    {
     "data": {
      "text/plain": [
       "17.75"
      ]
     },
     "execution_count": 72,
     "metadata": {},
     "output_type": "execute_result"
    }
   ],
   "source": [
    "iqr=q3-q1\n",
    "iqr"
   ]
  },
  {
   "cell_type": "code",
   "execution_count": 73,
   "id": "c54729e7",
   "metadata": {},
   "outputs": [
    {
     "data": {
      "text/plain": [
       "64.625"
      ]
     },
     "execution_count": 73,
     "metadata": {},
     "output_type": "execute_result"
    }
   ],
   "source": [
    "maximum=q3+1.5*iqr\n",
    "maximum"
   ]
  },
  {
   "cell_type": "code",
   "execution_count": 74,
   "id": "62e9f888",
   "metadata": {},
   "outputs": [
    {
     "data": {
      "text/plain": [
       "-6.375"
      ]
     },
     "execution_count": 74,
     "metadata": {},
     "output_type": "execute_result"
    }
   ],
   "source": [
    "minimum=q1-1.5*iqr\n",
    "minimum"
   ]
  },
  {
   "cell_type": "code",
   "execution_count": 75,
   "id": "07fce30a",
   "metadata": {},
   "outputs": [
    {
     "data": {
      "text/plain": [
       "True"
      ]
     },
     "execution_count": 75,
     "metadata": {},
     "output_type": "execute_result"
    }
   ],
   "source": [
    "maximum-q3==q1-minimum"
   ]
  },
  {
   "cell_type": "code",
   "execution_count": 41,
   "id": "b9359759",
   "metadata": {},
   "outputs": [
    {
     "data": {
      "text/plain": [
       "array([1, 0, 3, 4, 2, 5, 8], dtype=int64)"
      ]
     },
     "execution_count": 41,
     "metadata": {},
     "output_type": "execute_result"
    }
   ],
   "source": [
    "df[\"Siblings/Spouses Aboard\"].unique()\n",
    "#continuous data"
   ]
  },
  {
   "cell_type": "code",
   "execution_count": 43,
   "id": "7c3d08f8",
   "metadata": {},
   "outputs": [
    {
     "data": {
      "text/plain": [
       "<AxesSubplot:xlabel='Siblings/Spouses Aboard', ylabel='Count'>"
      ]
     },
     "execution_count": 43,
     "metadata": {},
     "output_type": "execute_result"
    },
    {
     "data": {
      "image/png": "[encoded data removed]",
      "text/plain": [
       "<Figure size 432x288 with 1 Axes>"
      ]
     },
     "metadata": {
      "needs_background": "light"
     },
     "output_type": "display_data"
    }
   ],
   "source": [
    "sns.histplot(df[\"Siblings/Spouses Aboard\"])"
   ]
  },
  {
   "cell_type": "code",
   "execution_count": 44,
   "id": "1ac8e008",
   "metadata": {},
   "outputs": [
    {
     "data": {
      "text/plain": [
       "<AxesSubplot:xlabel='Parents/Children Aboard', ylabel='Count'>"
      ]
     },
     "execution_count": 44,
     "metadata": {},
     "output_type": "execute_result"
    },
    {
     "data": {
      "image/png": "[encoded data removed]",
      "text/plain": [
       "<Figure size 432x288 with 1 Axes>"
      ]
     },
     "metadata": {
      "needs_background": "light"
     },
     "output_type": "display_data"
    }
   ],
   "source": [
    "sns.histplot(df[\"Parents/Children Aboard\"])"
   ]
  },
  {
   "cell_type": "code",
   "execution_count": 45,
   "id": "afa2c0f5",
   "metadata": {},
   "outputs": [],
   "source": [
    "#from these two columns we can conclude that most of the people are travelling alone "
   ]
  },
  {
   "cell_type": "code",
   "execution_count": 48,
   "id": "a1c80207",
   "metadata": {},
   "outputs": [
    {
     "data": {
      "text/plain": [
       "array([  7.25  ,  71.2833,   7.925 ,  53.1   ,   8.05  ,   8.4583,\n",
       "        51.8625,  21.075 ,  11.1333,  30.0708,  16.7   ,  26.55  ,\n",
       "        31.275 ,   7.8542,  16.    ,  29.125 ,  13.    ,  18.    ,\n",
       "         7.225 ,  26.    ,   8.0292,  35.5   ,  31.3875, 263.    ,\n",
       "         7.8792,   7.8958,  27.7208, 146.5208,   7.75  ,  10.5   ,\n",
       "        82.1708,  52.    ,   7.2292,  11.2417,   9.475 ,  21.    ,\n",
       "        41.5792,  15.5   ,  21.6792,  17.8   ,  39.6875,   7.8   ,\n",
       "        76.7292,  61.9792,  27.75  ,  46.9   ,  80.    ,  83.475 ,\n",
       "        27.9   ,  15.2458,   8.1583,   8.6625,  73.5   ,  14.4542,\n",
       "        56.4958,   7.65  ,  29.    ,  12.475 ,   9.    ,   9.5   ,\n",
       "         7.7875,  47.1   ,  15.85  ,  34.375 ,  61.175 ,  20.575 ,\n",
       "        34.6542,  63.3583,  23.    ,  77.2875,   8.6542,   7.775 ,\n",
       "        24.15  ,   9.825 ,  14.4583, 247.5208,   7.1417,  22.3583,\n",
       "         6.975 ,   7.05  ,  14.5   ,  15.0458,  26.2833,   9.2167,\n",
       "        79.2   ,   6.75  ,  11.5   ,  36.75  ,   7.7958,  12.525 ,\n",
       "        66.6   ,   7.3125,  61.3792,   7.7333,  69.55  ,  16.1   ,\n",
       "        15.75  ,  20.525 ,  55.    ,  25.925 ,  33.5   ,  30.6958,\n",
       "        25.4667,  28.7125,   0.    ,  15.05  ,  39.    ,  22.025 ,\n",
       "        50.    ,   8.4042,   6.4958,  10.4625,  18.7875,  31.    ,\n",
       "       113.275 ,  27.    ,  76.2917,  90.    ,   9.35  ,  13.5   ,\n",
       "         7.55  ,  26.25  ,  12.275 ,   7.125 ,  52.5542,  20.2125,\n",
       "        86.5   , 512.3292,  79.65  , 153.4625, 135.6333,  19.5   ,\n",
       "        29.7   ,  77.9583,  20.25  ,  78.85  ,  91.0792,  12.875 ,\n",
       "         8.85  , 151.55  ,  30.5   ,  23.25  ,  12.35  , 110.8833,\n",
       "       108.9   ,  24.    ,  56.9292,  83.1583, 262.375 ,  14.    ,\n",
       "       164.8667, 134.5   ,   6.2375,  57.9792,  28.5   , 133.65  ,\n",
       "        15.9   ,   9.225 ,  35.    ,  75.25  ,  69.3   ,  55.4417,\n",
       "       211.5   ,   4.0125, 227.525 ,  15.7417,   7.7292,  12.    ,\n",
       "       120.    ,  12.65  ,  18.75  ,   6.8583,  32.5   ,   7.875 ,\n",
       "        14.4   ,  55.9   ,   8.1125,  81.8583,  19.2583,  19.9667,\n",
       "        89.1042,  38.5   ,   7.725 ,  13.7917,   9.8375,   7.0458,\n",
       "         7.5208,  12.2875,   9.5875,  49.5042,  78.2667,  15.1   ,\n",
       "         7.6292,  22.525 ,  26.2875,  59.4   ,   7.4958,  34.0208,\n",
       "        93.5   , 221.7792, 106.425 ,  49.5   ,  71.    ,  13.8625,\n",
       "         7.8292,  39.6   ,  17.4   ,  51.4792,  26.3875,  30.    ,\n",
       "        40.125 ,   8.7125,  15.    ,  33.    ,  42.4   ,  15.55  ,\n",
       "        65.    ,  32.3208,   7.0542,   8.4333,  25.5875,   9.8417,\n",
       "         8.1375,  10.1708, 211.3375,  57.    ,  13.4167,   7.7417,\n",
       "         9.4833,   7.7375,   8.3625,  23.45  ,  25.9292,   8.6833,\n",
       "         8.5167,   7.8875,  37.0042,   6.45  ,   6.95  ,   8.3   ,\n",
       "         6.4375,  39.4   ,  14.1083,  13.8583,  50.4958,   5.    ,\n",
       "         9.8458,  10.5167])"
      ]
     },
     "execution_count": 48,
     "metadata": {},
     "output_type": "execute_result"
    }
   ],
   "source": [
    "df[\"Fare\"].unique()\n",
    "#continuous data"
   ]
  },
  {
   "cell_type": "code",
   "execution_count": 49,
   "id": "4cea1efb",
   "metadata": {},
   "outputs": [
    {
     "data": {
      "text/plain": [
       "<AxesSubplot:xlabel='Fare', ylabel='Count'>"
      ]
     },
     "execution_count": 49,
     "metadata": {},
     "output_type": "execute_result"
    },
    {
     "data": {
      "image/png": "[encoded data removed]",
      "text/plain": [
       "<Figure size 432x288 with 1 Axes>"
      ]
     },
     "metadata": {
      "needs_background": "light"
     },
     "output_type": "display_data"
    }
   ],
   "source": [
    "sns.histplot(df[\"Fare\"])\n",
    "#maximum people paid Fare between 0 to 50"
   ]
  },
  {
   "cell_type": "code",
   "execution_count": 55,
   "id": "78b5c27e",
   "metadata": {},
   "outputs": [
    {
     "data": {
      "text/plain": [
       "<AxesSubplot:ylabel='Fare'>"
      ]
     },
     "execution_count": 55,
     "metadata": {},
     "output_type": "execute_result"
    },
    {
     "data": {
      "image/png": "[encoded data removed]",
      "text/plain": [
       "<Figure size 432x288 with 1 Axes>"
      ]
     },
     "metadata": {
      "needs_background": "light"
     },
     "output_type": "display_data"
    }
   ],
   "source": [
    "sns.boxplot(y=\"Fare\", data=df)\n",
    "# it is clear from the below graph as the first quartile, second Quartile Q2 and the third Quartile Q3 \n",
    "# all lie within 0 to 100, "
   ]
  },
  {
   "cell_type": "code",
   "execution_count": 58,
   "id": "4f5b0319",
   "metadata": {},
   "outputs": [
    {
     "data": {
      "text/plain": [
       "7.925"
      ]
     },
     "execution_count": 58,
     "metadata": {},
     "output_type": "execute_result"
    }
   ],
   "source": [
    "q1,q2,q3=np.percentile(df['Fare'],[25,50,75])\n",
    "#first Quartile q1\n",
    "q1"
   ]
  },
  {
   "cell_type": "code",
   "execution_count": 59,
   "id": "7f0a9ef6",
   "metadata": {},
   "outputs": [
    {
     "data": {
      "text/plain": [
       "14.4542"
      ]
     },
     "execution_count": 59,
     "metadata": {},
     "output_type": "execute_result"
    }
   ],
   "source": [
    "#second Quartile q2\n",
    "q2"
   ]
  },
  {
   "cell_type": "code",
   "execution_count": 60,
   "id": "258f807e",
   "metadata": {},
   "outputs": [
    {
     "data": {
      "text/plain": [
       "31.1375"
      ]
     },
     "execution_count": 60,
     "metadata": {},
     "output_type": "execute_result"
    }
   ],
   "source": [
    "#third Quartile q3\n",
    "q3"
   ]
  },
  {
   "cell_type": "code",
   "execution_count": 62,
   "id": "38f036d3",
   "metadata": {},
   "outputs": [
    {
     "data": {
      "text/plain": [
       "23.2125"
      ]
     },
     "execution_count": 62,
     "metadata": {},
     "output_type": "execute_result"
    }
   ],
   "source": [
    "iqr=q3-q1\n",
    "#INTERQUARTILE RANGE(IQR)=Q3-Q1\n",
    "iqr"
   ]
  },
  {
   "cell_type": "code",
   "execution_count": 63,
   "id": "f7db3cfc",
   "metadata": {},
   "outputs": [
    {
     "data": {
      "text/plain": [
       "65.95625"
      ]
     },
     "execution_count": 63,
     "metadata": {},
     "output_type": "execute_result"
    }
   ],
   "source": [
    "#MAXIMUM=Q3+1.5*IQR\n",
    "maximum=q3+1.5*iqr\n",
    "maximum"
   ]
  },
  {
   "cell_type": "code",
   "execution_count": 65,
   "id": "96a83242",
   "metadata": {},
   "outputs": [
    {
     "data": {
      "text/plain": [
       "-26.893749999999994"
      ]
     },
     "execution_count": 65,
     "metadata": {},
     "output_type": "execute_result"
    }
   ],
   "source": [
    "#MINIMUM=Q1-1.5*IQR\n",
    "minimum=q1-1.5*iqr\n",
    "minimum"
   ]
  },
  {
   "cell_type": "code",
   "execution_count": 66,
   "id": "8974c504",
   "metadata": {},
   "outputs": [
    {
     "data": {
      "text/plain": [
       "True"
      ]
     },
     "execution_count": 66,
     "metadata": {},
     "output_type": "execute_result"
    }
   ],
   "source": [
    "q1-minimum == maximum-q3"
   ]
  },
  {
   "cell_type": "code",
   "execution_count": 67,
   "id": "235f7659",
   "metadata": {},
   "outputs": [],
   "source": [
    "#observing the quartile values we can conclude that very low number of people paid a fare above 100"
   ]
  },
  {
   "cell_type": "markdown",
   "id": "f654784d",
   "metadata": {},
   "source": [
    "# BIVARIATE ANALYSIS"
   ]
  },
  {
   "cell_type": "code",
   "execution_count": 77,
   "id": "4954e6dc",
   "metadata": {},
   "outputs": [
    {
     "data": {
      "text/html": [
       "<div>\n",
       "<style scoped>\n",
       "    .dataframe tbody tr th:only-of-type {\n",
       "        vertical-align: middle;\n",
       "    }\n",
       "\n",
       "    .dataframe tbody tr th {\n",
       "        vertical-align: top;\n",
       "    }\n",
       "\n",
       "    .dataframe thead th {\n",
       "        text-align: right;\n",
       "    }\n",
       "</style>\n",
       "<table border=\"1\" class=\"dataframe\">\n",
       "  <thead>\n",
       "    <tr style=\"text-align: right;\">\n",
       "      <th></th>\n",
       "      <th>Survived</th>\n",
       "      <th>Pclass</th>\n",
       "      <th>Name</th>\n",
       "      <th>Sex</th>\n",
       "      <th>Age</th>\n",
       "      <th>Siblings/Spouses Aboard</th>\n",
       "      <th>Parents/Children Aboard</th>\n",
       "      <th>Fare</th>\n",
       "    </tr>\n",
       "  </thead>\n",
       "  <tbody>\n",
       "    <tr>\n",
       "      <th>0</th>\n",
       "      <td>0</td>\n",
       "      <td>3</td>\n",
       "      <td>Mr. Owen Harris Braund</td>\n",
       "      <td>male</td>\n",
       "      <td>22.0</td>\n",
       "      <td>1</td>\n",
       "      <td>0</td>\n",
       "      <td>7.2500</td>\n",
       "    </tr>\n",
       "    <tr>\n",
       "      <th>1</th>\n",
       "      <td>1</td>\n",
       "      <td>1</td>\n",
       "      <td>Mrs. John Bradley (Florence Briggs Thayer) Cum...</td>\n",
       "      <td>female</td>\n",
       "      <td>38.0</td>\n",
       "      <td>1</td>\n",
       "      <td>0</td>\n",
       "      <td>71.2833</td>\n",
       "    </tr>\n",
       "    <tr>\n",
       "      <th>2</th>\n",
       "      <td>1</td>\n",
       "      <td>3</td>\n",
       "      <td>Miss. Laina Heikkinen</td>\n",
       "      <td>female</td>\n",
       "      <td>26.0</td>\n",
       "      <td>0</td>\n",
       "      <td>0</td>\n",
       "      <td>7.9250</td>\n",
       "    </tr>\n",
       "    <tr>\n",
       "      <th>3</th>\n",
       "      <td>1</td>\n",
       "      <td>1</td>\n",
       "      <td>Mrs. Jacques Heath (Lily May Peel) Futrelle</td>\n",
       "      <td>female</td>\n",
       "      <td>35.0</td>\n",
       "      <td>1</td>\n",
       "      <td>0</td>\n",
       "      <td>53.1000</td>\n",
       "    </tr>\n",
       "    <tr>\n",
       "      <th>4</th>\n",
       "      <td>0</td>\n",
       "      <td>3</td>\n",
       "      <td>Mr. William Henry Allen</td>\n",
       "      <td>male</td>\n",
       "      <td>35.0</td>\n",
       "      <td>0</td>\n",
       "      <td>0</td>\n",
       "      <td>8.0500</td>\n",
       "    </tr>\n",
       "  </tbody>\n",
       "</table>\n",
       "</div>"
      ],
      "text/plain": [
       "   Survived  Pclass                                               Name  \\\n",
       "0         0       3                             Mr. Owen Harris Braund   \n",
       "1         1       1  Mrs. John Bradley (Florence Briggs Thayer) Cum...   \n",
       "2         1       3                              Miss. Laina Heikkinen   \n",
       "3         1       1        Mrs. Jacques Heath (Lily May Peel) Futrelle   \n",
       "4         0       3                            Mr. William Henry Allen   \n",
       "\n",
       "      Sex   Age  Siblings/Spouses Aboard  Parents/Children Aboard     Fare  \n",
       "0    male  22.0                        1                        0   7.2500  \n",
       "1  female  38.0                        1                        0  71.2833  \n",
       "2  female  26.0                        0                        0   7.9250  \n",
       "3  female  35.0                        1                        0  53.1000  \n",
       "4    male  35.0                        0                        0   8.0500  "
      ]
     },
     "execution_count": 77,
     "metadata": {},
     "output_type": "execute_result"
    }
   ],
   "source": [
    "df.head()"
   ]
  },
  {
   "cell_type": "code",
   "execution_count": 78,
   "id": "570b429a",
   "metadata": {},
   "outputs": [],
   "source": [
    "#categorical vs categorical data\n",
    "#Survived, PClass, Sex are the categorical data"
   ]
  },
  {
   "cell_type": "code",
   "execution_count": 79,
   "id": "55bdd601",
   "metadata": {},
   "outputs": [
    {
     "data": {
      "text/html": [
       "<div>\n",
       "<style scoped>\n",
       "    .dataframe tbody tr th:only-of-type {\n",
       "        vertical-align: middle;\n",
       "    }\n",
       "\n",
       "    .dataframe tbody tr th {\n",
       "        vertical-align: top;\n",
       "    }\n",
       "\n",
       "    .dataframe thead th {\n",
       "        text-align: right;\n",
       "    }\n",
       "</style>\n",
       "<table border=\"1\" class=\"dataframe\">\n",
       "  <thead>\n",
       "    <tr style=\"text-align: right;\">\n",
       "      <th>Pclass</th>\n",
       "      <th>1</th>\n",
       "      <th>2</th>\n",
       "      <th>3</th>\n",
       "    </tr>\n",
       "    <tr>\n",
       "      <th>Survived</th>\n",
       "      <th></th>\n",
       "      <th></th>\n",
       "      <th></th>\n",
       "    </tr>\n",
       "  </thead>\n",
       "  <tbody>\n",
       "    <tr>\n",
       "      <th>0</th>\n",
       "      <td>80</td>\n",
       "      <td>97</td>\n",
       "      <td>368</td>\n",
       "    </tr>\n",
       "    <tr>\n",
       "      <th>1</th>\n",
       "      <td>136</td>\n",
       "      <td>87</td>\n",
       "      <td>119</td>\n",
       "    </tr>\n",
       "  </tbody>\n",
       "</table>\n",
       "</div>"
      ],
      "text/plain": [
       "Pclass      1   2    3\n",
       "Survived              \n",
       "0          80  97  368\n",
       "1         136  87  119"
      ]
     },
     "execution_count": 79,
     "metadata": {},
     "output_type": "execute_result"
    }
   ],
   "source": [
    "#Survived vs Pclass\n",
    "pd.crosstab(df[\"Survived\"],df[\"Pclass\"])\n",
    "#as seen in the data below more number of people in Pclass 1 survived \n",
    "#whereas in Pclass 3 most people couldn't survive.\n",
    "#in Pclass 2 number of people survived vs number of people who didn't are \n",
    "#roughly same"
   ]
  },
  {
   "cell_type": "code",
   "execution_count": 80,
   "id": "4a896715",
   "metadata": {},
   "outputs": [
    {
     "data": {
      "text/html": [
       "<div>\n",
       "<style scoped>\n",
       "    .dataframe tbody tr th:only-of-type {\n",
       "        vertical-align: middle;\n",
       "    }\n",
       "\n",
       "    .dataframe tbody tr th {\n",
       "        vertical-align: top;\n",
       "    }\n",
       "\n",
       "    .dataframe thead th {\n",
       "        text-align: right;\n",
       "    }\n",
       "</style>\n",
       "<table border=\"1\" class=\"dataframe\">\n",
       "  <thead>\n",
       "    <tr style=\"text-align: right;\">\n",
       "      <th>Sex</th>\n",
       "      <th>female</th>\n",
       "      <th>male</th>\n",
       "    </tr>\n",
       "    <tr>\n",
       "      <th>Survived</th>\n",
       "      <th></th>\n",
       "      <th></th>\n",
       "    </tr>\n",
       "  </thead>\n",
       "  <tbody>\n",
       "    <tr>\n",
       "      <th>0</th>\n",
       "      <td>81</td>\n",
       "      <td>464</td>\n",
       "    </tr>\n",
       "    <tr>\n",
       "      <th>1</th>\n",
       "      <td>233</td>\n",
       "      <td>109</td>\n",
       "    </tr>\n",
       "  </tbody>\n",
       "</table>\n",
       "</div>"
      ],
      "text/plain": [
       "Sex       female  male\n",
       "Survived              \n",
       "0             81   464\n",
       "1            233   109"
      ]
     },
     "execution_count": 80,
     "metadata": {},
     "output_type": "execute_result"
    }
   ],
   "source": [
    "pd.crosstab(df[\"Survived\"], df[\"Sex\"])\n",
    "# most of the female passengers survived \n",
    "#whereas most of the male passengers died"
   ]
  },
  {
   "cell_type": "code",
   "execution_count": 81,
   "id": "bdd03a52",
   "metadata": {},
   "outputs": [
    {
     "data": {
      "text/html": [
       "<div>\n",
       "<style scoped>\n",
       "    .dataframe tbody tr th:only-of-type {\n",
       "        vertical-align: middle;\n",
       "    }\n",
       "\n",
       "    .dataframe tbody tr th {\n",
       "        vertical-align: top;\n",
       "    }\n",
       "\n",
       "    .dataframe thead th {\n",
       "        text-align: right;\n",
       "    }\n",
       "</style>\n",
       "<table border=\"1\" class=\"dataframe\">\n",
       "  <thead>\n",
       "    <tr style=\"text-align: right;\">\n",
       "      <th>Sex</th>\n",
       "      <th>female</th>\n",
       "      <th>male</th>\n",
       "    </tr>\n",
       "    <tr>\n",
       "      <th>Pclass</th>\n",
       "      <th></th>\n",
       "      <th></th>\n",
       "    </tr>\n",
       "  </thead>\n",
       "  <tbody>\n",
       "    <tr>\n",
       "      <th>1</th>\n",
       "      <td>94</td>\n",
       "      <td>122</td>\n",
       "    </tr>\n",
       "    <tr>\n",
       "      <th>2</th>\n",
       "      <td>76</td>\n",
       "      <td>108</td>\n",
       "    </tr>\n",
       "    <tr>\n",
       "      <th>3</th>\n",
       "      <td>144</td>\n",
       "      <td>343</td>\n",
       "    </tr>\n",
       "  </tbody>\n",
       "</table>\n",
       "</div>"
      ],
      "text/plain": [
       "Sex     female  male\n",
       "Pclass              \n",
       "1           94   122\n",
       "2           76   108\n",
       "3          144   343"
      ]
     },
     "execution_count": 81,
     "metadata": {},
     "output_type": "execute_result"
    }
   ],
   "source": [
    "pd.crosstab(df[\"Pclass\"], df[\"Sex\"])\n",
    "# the number of male passengers in every class is more as compared to the \n",
    "#number of female passengers in the corresponding class"
   ]
  },
  {
   "cell_type": "code",
   "execution_count": 83,
   "id": "53755546",
   "metadata": {},
   "outputs": [
    {
     "data": {
      "text/plain": [
       "<AxesSubplot:xlabel='Age', ylabel='Siblings/Spouses Aboard'>"
      ]
     },
     "execution_count": 83,
     "metadata": {},
     "output_type": "execute_result"
    },
    {
     "data": {
      "image/png": "[encoded data removed]",
      "text/plain": [
       "<Figure size 432x288 with 1 Axes>"
      ]
     },
     "metadata": {
      "needs_background": "light"
     },
     "output_type": "display_data"
    }
   ],
   "source": [
    "#continuous vs continuous\n",
    "# Age, Siblings/Spouses Aboard, Parents/Children Aboard, Fare\n",
    "#Age vs Sibling/Spouses Aboard\n",
    "sns.scatterplot(x=\"Age\", y=\"Siblings/Spouses Aboard\", data=df)"
   ]
  },
  {
   "cell_type": "code",
   "execution_count": 84,
   "id": "73becdad",
   "metadata": {},
   "outputs": [
    {
     "data": {
      "text/plain": [
       "<AxesSubplot:xlabel='Age', ylabel='Parents/Children Aboard'>"
      ]
     },
     "execution_count": 84,
     "metadata": {},
     "output_type": "execute_result"
    },
    {
     "data": {
      "image/png": "[encoded data removed]",
      "text/plain": [
       "<Figure size 432x288 with 1 Axes>"
      ]
     },
     "metadata": {
      "needs_background": "light"
     },
     "output_type": "display_data"
    }
   ],
   "source": [
    "sns.scatterplot(x=\"Age\", y=\"Parents/Children Aboard\",data=df)"
   ]
  },
  {
   "cell_type": "code",
   "execution_count": 92,
   "id": "be89d903",
   "metadata": {},
   "outputs": [
    {
     "data": {
      "text/plain": [
       "<AxesSubplot:xlabel='Age', ylabel='Fare'>"
      ]
     },
     "execution_count": 92,
     "metadata": {},
     "output_type": "execute_result"
    },
    {
     "data": {
      "image/png": "[encoded data removed]",
      "text/plain": [
       "<Figure size 432x288 with 1 Axes>"
      ]
     },
     "metadata": {
      "needs_background": "light"
     },
     "output_type": "display_data"
    }
   ],
   "source": [
    "sns.scatterplot(x=\"Age\", y=\"Fare\", data=df)\n",
    "#clearly we can see the outliers"
   ]
  },
  {
   "cell_type": "code",
   "execution_count": 93,
   "id": "e1604be7",
   "metadata": {},
   "outputs": [
    {
     "data": {
      "text/plain": [
       "3"
      ]
     },
     "execution_count": 93,
     "metadata": {},
     "output_type": "execute_result"
    }
   ],
   "source": [
    "len(df[df[\"Fare\"]>500])\n",
    "#out of all the people only 3 people paid fare above 500, \n",
    "#so we can remove them"
   ]
  },
  {
   "cell_type": "code",
   "execution_count": 96,
   "id": "59d5b2db",
   "metadata": {},
   "outputs": [
    {
     "data": {
      "text/plain": [
       "(884, 8)"
      ]
     },
     "execution_count": 96,
     "metadata": {},
     "output_type": "execute_result"
    }
   ],
   "source": [
    "df=df[df[\"Fare\"]<500]\n",
    "df.shape#3 rows deleted 887---->884 rows"
   ]
  },
  {
   "cell_type": "code",
   "execution_count": 97,
   "id": "63ca050d",
   "metadata": {},
   "outputs": [
    {
     "data": {
      "text/plain": [
       "<AxesSubplot:xlabel='Siblings/Spouses Aboard', ylabel='Parents/Children Aboard'>"
      ]
     },
     "execution_count": 97,
     "metadata": {},
     "output_type": "execute_result"
    },
    {
     "data": {
      "image/png": "[encoded data removed]",
      "text/plain": [
       "<Figure size 432x288 with 1 Axes>"
      ]
     },
     "metadata": {
      "needs_background": "light"
     },
     "output_type": "display_data"
    }
   ],
   "source": [
    "sns.scatterplot(x=\"Siblings/Spouses Aboard\", y=\"Parents/Children Aboard\", data=df)"
   ]
  },
  {
   "cell_type": "code",
   "execution_count": 98,
   "id": "b019d9ad",
   "metadata": {},
   "outputs": [
    {
     "data": {
      "text/plain": [
       "<AxesSubplot:xlabel='Siblings/Spouses Aboard', ylabel='Fare'>"
      ]
     },
     "execution_count": 98,
     "metadata": {},
     "output_type": "execute_result"
    },
    {
     "data": {
      "image/png": "[encoded data removed]",
      "text/plain": [
       "<Figure size 432x288 with 1 Axes>"
      ]
     },
     "metadata": {
      "needs_background": "light"
     },
     "output_type": "display_data"
    }
   ],
   "source": [
    "sns.scatterplot(x=\"Siblings/Spouses Aboard\", y=\"Fare\", data=df)"
   ]
  },
  {
   "cell_type": "code",
   "execution_count": 99,
   "id": "beb60636",
   "metadata": {},
   "outputs": [
    {
     "data": {
      "text/plain": [
       "<AxesSubplot:xlabel='Parents/Children Aboard', ylabel='Fare'>"
      ]
     },
     "execution_count": 99,
     "metadata": {},
     "output_type": "execute_result"
    },
    {
     "data": {
      "image/png": "[encoded data removed]",
      "text/plain": [
       "<Figure size 432x288 with 1 Axes>"
      ]
     },
     "metadata": {
      "needs_background": "light"
     },
     "output_type": "display_data"
    }
   ],
   "source": [
    "sns.scatterplot(x=\"Parents/Children Aboard\", y=\"Fare\", data=df)"
   ]
  },
  {
   "cell_type": "code",
   "execution_count": 100,
   "id": "84e9bf11",
   "metadata": {},
   "outputs": [],
   "source": [
    "#now we have removed the outliers"
   ]
  },
  {
   "cell_type": "code",
   "execution_count": 105,
   "id": "563f5518",
   "metadata": {},
   "outputs": [
    {
     "data": {
      "text/plain": [
       "<AxesSubplot:xlabel='Survived', ylabel='Age'>"
      ]
     },
     "execution_count": 105,
     "metadata": {},
     "output_type": "execute_result"
    },
    {
     "data": {
      "image/png": "[encoded data removed]",
      "text/plain": [
       "<Figure size 432x288 with 1 Axes>"
      ]
     },
     "metadata": {
      "needs_background": "light"
     },
     "output_type": "display_data"
    }
   ],
   "source": [
    "#categorical vs continuous data\n",
    "#categorical data-->(Survived, Pclass, Sex)\n",
    "#continuous data-->(Age, Siblings/Spouses Aboard, Parents/Children Aboard, Fare)\n",
    "sns.barplot(x=\"Survived\", y=\"Age\", data=df, estimator=np.mean)\n",
    "#the average age for people who did't survive is slightly more than those who survived"
   ]
  },
  {
   "cell_type": "code",
   "execution_count": 103,
   "id": "8d415310",
   "metadata": {},
   "outputs": [
    {
     "data": {
      "text/plain": [
       "<AxesSubplot:xlabel='Survived', ylabel='Fare'>"
      ]
     },
     "execution_count": 103,
     "metadata": {},
     "output_type": "execute_result"
    },
    {
     "data": {
      "image/png": "[encoded data removed]",
      "text/plain": [
       "<Figure size 432x288 with 1 Axes>"
      ]
     },
     "metadata": {
      "needs_background": "light"
     },
     "output_type": "display_data"
    }
   ],
   "source": [
    "sns.barplot(x=\"Survived\", y=\"Fare\", data=df)\n",
    "#the average fare paid by the passengers who survived is greater than those\n",
    "#who didn;t survive"
   ]
  },
  {
   "cell_type": "code",
   "execution_count": 106,
   "id": "94de37b5",
   "metadata": {},
   "outputs": [
    {
     "data": {
      "text/plain": [
       "<AxesSubplot:xlabel='Survived', ylabel='Siblings/Spouses Aboard'>"
      ]
     },
     "execution_count": 106,
     "metadata": {},
     "output_type": "execute_result"
    },
    {
     "data": {
      "image/png": "[encoded data removed]",
      "text/plain": [
       "<Figure size 432x288 with 1 Axes>"
      ]
     },
     "metadata": {
      "needs_background": "light"
     },
     "output_type": "display_data"
    }
   ],
   "source": [
    "sns.barplot(x=\"Survived\", y=\"Siblings/Spouses Aboard\", data=df)"
   ]
  },
  {
   "cell_type": "code",
   "execution_count": 107,
   "id": "9df31ab0",
   "metadata": {},
   "outputs": [
    {
     "data": {
      "text/plain": [
       "<AxesSubplot:xlabel='Survived', ylabel='Parents/Children Aboard'>"
      ]
     },
     "execution_count": 107,
     "metadata": {},
     "output_type": "execute_result"
    },
    {
     "data": {
      "image/png": "[encoded data removed]",
      "text/plain": [
       "<Figure size 432x288 with 1 Axes>"
      ]
     },
     "metadata": {
      "needs_background": "light"
     },
     "output_type": "display_data"
    }
   ],
   "source": [
    "sns.barplot(x=\"Survived\", y=\"Parents/Children Aboard\", data=df)"
   ]
  },
  {
   "cell_type": "code",
   "execution_count": 109,
   "id": "c0fe60d1",
   "metadata": {},
   "outputs": [
    {
     "data": {
      "text/plain": [
       "<AxesSubplot:xlabel='Pclass', ylabel='Age'>"
      ]
     },
     "execution_count": 109,
     "metadata": {},
     "output_type": "execute_result"
    },
    {
     "data": {
      "image/png": "[encoded data removed]",
      "text/plain": [
       "<Figure size 432x288 with 1 Axes>"
      ]
     },
     "metadata": {
      "needs_background": "light"
     },
     "output_type": "display_data"
    }
   ],
   "source": [
    "sns.barplot(x=\"Pclass\", y=\"Age\", data=df)\n",
    "#average age of the people in Pclass 1 is highest\n",
    "#average age of the people in Pclass 3 is the lowest"
   ]
  },
  {
   "cell_type": "code",
   "execution_count": 110,
   "id": "ed46a0eb",
   "metadata": {},
   "outputs": [
    {
     "data": {
      "text/plain": [
       "<AxesSubplot:xlabel='Pclass', ylabel='Fare'>"
      ]
     },
     "execution_count": 110,
     "metadata": {},
     "output_type": "execute_result"
    },
    {
     "data": {
      "image/png": "[encoded data removed]",
      "text/plain": [
       "<Figure size 432x288 with 1 Axes>"
      ]
     },
     "metadata": {
      "needs_background": "light"
     },
     "output_type": "display_data"
    }
   ],
   "source": [
    "sns.barplot(x=\"Pclass\", y=\"Fare\", data=df)\n",
    "#Average Fare Paid by first class people is very high than the other 2 classes\n",
    "#Average Fare paid by Pclass 3 people is the least"
   ]
  },
  {
   "cell_type": "code",
   "execution_count": 111,
   "id": "8b19e2fc",
   "metadata": {},
   "outputs": [
    {
     "data": {
      "text/plain": [
       "<AxesSubplot:xlabel='Pclass', ylabel='Siblings/Spouses Aboard'>"
      ]
     },
     "execution_count": 111,
     "metadata": {},
     "output_type": "execute_result"
    },
    {
     "data": {
      "image/png": "[encoded data removed]",
      "text/plain": [
       "<Figure size 432x288 with 1 Axes>"
      ]
     },
     "metadata": {
      "needs_background": "light"
     },
     "output_type": "display_data"
    }
   ],
   "source": [
    "sns.barplot(x=\"Pclass\", y=\"Siblings/Spouses Aboard\", data=df)"
   ]
  },
  {
   "cell_type": "code",
   "execution_count": 112,
   "id": "f2da6dea",
   "metadata": {},
   "outputs": [
    {
     "data": {
      "text/plain": [
       "<AxesSubplot:xlabel='Pclass', ylabel='Parents/Children Aboard'>"
      ]
     },
     "execution_count": 112,
     "metadata": {},
     "output_type": "execute_result"
    },
    {
     "data": {
      "image/png": "[encoded data removed]",
      "text/plain": [
       "<Figure size 432x288 with 1 Axes>"
      ]
     },
     "metadata": {
      "needs_background": "light"
     },
     "output_type": "display_data"
    }
   ],
   "source": [
    "sns.barplot(x=\"Pclass\", y=\"Parents/Children Aboard\", data=df)\n",
    "#the Average number of people travelling alone or with less family members\n",
    "#aboard are in the Pclass 1"
   ]
  },
  {
   "cell_type": "code",
   "execution_count": 113,
   "id": "5411fb5f",
   "metadata": {},
   "outputs": [
    {
     "data": {
      "text/plain": [
       "<AxesSubplot:xlabel='Sex', ylabel='Age'>"
      ]
     },
     "execution_count": 113,
     "metadata": {},
     "output_type": "execute_result"
    },
    {
     "data": {
      "image/png": "[encoded data removed]",
      "text/plain": [
       "<Figure size 432x288 with 1 Axes>"
      ]
     },
     "metadata": {
      "needs_background": "light"
     },
     "output_type": "display_data"
    }
   ],
   "source": [
    "sns.barplot(x=\"Sex\", y=\"Age\", data=df)"
   ]
  },
  {
   "cell_type": "code",
   "execution_count": 114,
   "id": "341efef5",
   "metadata": {},
   "outputs": [
    {
     "data": {
      "text/plain": [
       "<AxesSubplot:xlabel='Sex', ylabel='Siblings/Spouses Aboard'>"
      ]
     },
     "execution_count": 114,
     "metadata": {},
     "output_type": "execute_result"
    },
    {
     "data": {
      "image/png": "[encoded data removed]",
      "text/plain": [
       "<Figure size 432x288 with 1 Axes>"
      ]
     },
     "metadata": {
      "needs_background": "light"
     },
     "output_type": "display_data"
    }
   ],
   "source": [
    "sns.barplot(x=\"Sex\", y=\"Siblings/Spouses Aboard\", data=df)"
   ]
  },
  {
   "cell_type": "code",
   "execution_count": 115,
   "id": "7575f85f",
   "metadata": {},
   "outputs": [
    {
     "data": {
      "text/plain": [
       "<AxesSubplot:xlabel='Sex', ylabel='Parents/Children Aboard'>"
      ]
     },
     "execution_count": 115,
     "metadata": {},
     "output_type": "execute_result"
    },
    {
     "data": {
      "image/png": "[encoded data removed]",
      "text/plain": [
       "<Figure size 432x288 with 1 Axes>"
      ]
     },
     "metadata": {
      "needs_background": "light"
     },
     "output_type": "display_data"
    }
   ],
   "source": [
    "sns.barplot(x=\"Sex\", y=\"Parents/Children Aboard\", data=df)\n",
    "#The number of family members travelling aboard for female passengers are \n",
    "#high as a=compared to male passenges"
   ]
  },
  {
   "cell_type": "code",
   "execution_count": 116,
   "id": "a596679a",
   "metadata": {},
   "outputs": [
    {
     "data": {
      "text/plain": [
       "<AxesSubplot:xlabel='Sex', ylabel='Fare'>"
      ]
     },
     "execution_count": 116,
     "metadata": {},
     "output_type": "execute_result"
    },
    {
     "data": {
      "image/png": "[encoded data removed]",
      "text/plain": [
       "<Figure size 432x288 with 1 Axes>"
      ]
     },
     "metadata": {
      "needs_background": "light"
     },
     "output_type": "display_data"
    }
   ],
   "source": [
    "sns.barplot(x=\"Sex\", y=\"Fare\", data=df)\n",
    "#the average fare oaid by the female passengers are more than that of male\n",
    "#passengers"
   ]
  }
 ],
 "metadata": {
  "kernelspec": {
   "display_name": "Python 3 (ipykernel)",
   "language": "python",
   "name": "python3"
  },
  "language_info": {
   "codemirror_mode": {
    "name": "ipython",
    "version": 3
   },
   "file_extension": ".py",
   "mimetype": "text/x-python",
   "name": "python",
   "nbconvert_exporter": "python",
   "pygments_lexer": "ipython3",
   "version": "3.9.12"
  }
 },
 "nbformat": 4,
 "nbformat_minor": 5
}
